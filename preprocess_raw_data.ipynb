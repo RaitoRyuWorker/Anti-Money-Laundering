{
 "cells": [
  {
   "cell_type": "code",
   "execution_count": 9,
   "metadata": {},
   "outputs": [],
   "source": [
    "import pandas as pd\n",
    "import os"
   ]
  },
  {
   "cell_type": "code",
   "execution_count": null,
   "metadata": {},
   "outputs": [],
   "source": [
    "df = pd.read_csv(\"./shared/data/HI-Medium_Trans.csv\")"
   ]
  },
  {
   "cell_type": "code",
   "execution_count": 4,
   "metadata": {},
   "outputs": [
    {
     "data": {
      "text/plain": [
       "(31898238, 11)"
      ]
     },
     "execution_count": 4,
     "metadata": {},
     "output_type": "execute_result"
    }
   ],
   "source": [
    "df.shape"
   ]
  },
  {
   "cell_type": "code",
   "execution_count": 5,
   "metadata": {},
   "outputs": [
    {
     "data": {
      "text/plain": [
       "Index(['Timestamp', 'From Bank', 'Account', 'To Bank', 'Account.1',\n",
       "       'Amount Received', 'Receiving Currency', 'Amount Paid',\n",
       "       'Payment Currency', 'Payment Format', 'Is Laundering'],\n",
       "      dtype='object')"
      ]
     },
     "execution_count": 5,
     "metadata": {},
     "output_type": "execute_result"
    }
   ],
   "source": [
    "df.columns"
   ]
  },
  {
   "cell_type": "code",
   "execution_count": 6,
   "metadata": {},
   "outputs": [
    {
     "data": {
      "text/plain": [
       "Timestamp              object\n",
       "From Bank               int64\n",
       "Account                object\n",
       "To Bank                 int64\n",
       "Account.1              object\n",
       "Amount Received       float64\n",
       "Receiving Currency     object\n",
       "Amount Paid           float64\n",
       "Payment Currency       object\n",
       "Payment Format         object\n",
       "Is Laundering           int64\n",
       "dtype: object"
      ]
     },
     "execution_count": 6,
     "metadata": {},
     "output_type": "execute_result"
    }
   ],
   "source": [
    "df.dtypes"
   ]
  },
  {
   "cell_type": "code",
   "execution_count": 7,
   "metadata": {},
   "outputs": [],
   "source": [
    "df[\"Timestamp\"] = pd.to_datetime(df[\"Timestamp\"])  # Chuyển đổi sang datetime\n",
    "unique_dates = df[\"Timestamp\"].dt.date.unique()"
   ]
  },
  {
   "cell_type": "code",
   "execution_count": 8,
   "metadata": {},
   "outputs": [
    {
     "data": {
      "text/plain": [
       "array([datetime.date(2022, 9, 1), datetime.date(2022, 9, 3),\n",
       "       datetime.date(2022, 9, 2), datetime.date(2022, 9, 4),\n",
       "       datetime.date(2022, 9, 5), datetime.date(2022, 9, 6),\n",
       "       datetime.date(2022, 9, 7), datetime.date(2022, 9, 8),\n",
       "       datetime.date(2022, 9, 9), datetime.date(2022, 9, 10),\n",
       "       datetime.date(2022, 9, 11), datetime.date(2022, 9, 12),\n",
       "       datetime.date(2022, 9, 13), datetime.date(2022, 9, 14),\n",
       "       datetime.date(2022, 9, 15), datetime.date(2022, 9, 16),\n",
       "       datetime.date(2022, 9, 17), datetime.date(2022, 9, 18),\n",
       "       datetime.date(2022, 9, 19), datetime.date(2022, 9, 20),\n",
       "       datetime.date(2022, 9, 21), datetime.date(2022, 9, 22),\n",
       "       datetime.date(2022, 9, 23), datetime.date(2022, 9, 24),\n",
       "       datetime.date(2022, 9, 25), datetime.date(2022, 9, 26),\n",
       "       datetime.date(2022, 9, 27), datetime.date(2022, 9, 28)],\n",
       "      dtype=object)"
      ]
     },
     "execution_count": 8,
     "metadata": {},
     "output_type": "execute_result"
    }
   ],
   "source": [
    "unique_dates"
   ]
  },
  {
   "cell_type": "code",
   "execution_count": 10,
   "metadata": {},
   "outputs": [],
   "source": [
    "df[\"Date\"] = df[\"Timestamp\"].dt.date\n",
    "for date, group in df.groupby(\"Date\"):\n",
    "    file_name = f\"./shared/data/{date}.csv\"  # Đặt tên file theo ngày\n",
    "    group.to_csv(file_name, index=False)"
   ]
  },
  {
   "cell_type": "code",
   "execution_count": 14,
   "metadata": {},
   "outputs": [],
   "source": [
    "os.remove(\"./shared/data/HI-Medium_Trans.csv\")"
   ]
  },
  {
   "cell_type": "code",
   "execution_count": null,
   "metadata": {},
   "outputs": [],
   "source": []
  }
 ],
 "metadata": {
  "kernelspec": {
   "display_name": "my_env",
   "language": "python",
   "name": "python3"
  },
  "language_info": {
   "codemirror_mode": {
    "name": "ipython",
    "version": 3
   },
   "file_extension": ".py",
   "mimetype": "text/x-python",
   "name": "python",
   "nbconvert_exporter": "python",
   "pygments_lexer": "ipython3",
   "version": "3.10.9"
  }
 },
 "nbformat": 4,
 "nbformat_minor": 2
}
